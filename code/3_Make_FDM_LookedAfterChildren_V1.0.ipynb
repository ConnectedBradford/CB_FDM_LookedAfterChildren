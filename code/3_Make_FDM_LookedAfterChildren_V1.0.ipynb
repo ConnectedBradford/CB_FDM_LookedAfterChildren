{
 "cells": [
  {
   "cell_type": "code",
   "execution_count": 13,
   "id": "79f3661f-676d-4c14-abd3-02660031f1e2",
   "metadata": {},
   "outputs": [
    {
     "name": "stdout",
     "output_type": "stream",
     "text": [
      "[1] \"yhcr-prd-phm-bia-core.CB_FDM_LookedAfterChildren_V1\"\n"
     ]
    }
   ],
   "source": [
    "#Qmak_Calderdale_FDM_FULL_V1.0.ipynb\n",
    "##last modified 20230309 \n",
    "\n",
    "#Builds the Airedale SUS FDM\n",
    "#Assumes that the targetdb below exists\n",
    "#Needs code to build it if it doesn't\n",
    "\n",
    "#You will need to manually amend the target dataset for this script\n",
    "\n",
    "library(bigrquery)\n",
    "library(lubridate) # required for datetime\n",
    "\n",
    "# Store the project ID\n",
    "project_id = \"yhcr-prd-phm-bia-core\"\n",
    "\n",
    "sourcedb <-\"yhcr-prd-phm-bia-core.CB_STAGING_DATABASE_DFE_FDM_Format\"\n",
    "targetdb <-'yhcr-prd-phm-bia-core.CB_FDM_LookedAfterChildren_V1'\n",
    "\n",
    "targetdb <-gsub(' ','',targetdb)\n",
    "print (targetdb)"
   ]
  },
  {
   "cell_type": "code",
   "execution_count": 14,
   "id": "5b8a0930-0a78-4abb-b723-8a3f02701729",
   "metadata": {},
   "outputs": [
    {
     "data": {
      "text/html": [
       "<table class=\"dataframe\">\n",
       "<caption>A tibble: 2 × 1</caption>\n",
       "<thead>\n",
       "\t<tr><th scope=col>table_name</th></tr>\n",
       "\t<tr><th scope=col>&lt;chr&gt;</th></tr>\n",
       "</thead>\n",
       "<tbody>\n",
       "\t<tr><td>tbl_ChildrenLookedAfter             </td></tr>\n",
       "\t<tr><td>tbl_ChildrenLookedAfter_2006_to_2019</td></tr>\n",
       "</tbody>\n",
       "</table>\n"
      ],
      "text/latex": [
       "A tibble: 2 × 1\n",
       "\\begin{tabular}{l}\n",
       " table\\_name\\\\\n",
       " <chr>\\\\\n",
       "\\hline\n",
       "\t tbl\\_ChildrenLookedAfter             \\\\\n",
       "\t tbl\\_ChildrenLookedAfter\\_2006\\_to\\_2019\\\\\n",
       "\\end{tabular}\n"
      ],
      "text/markdown": [
       "\n",
       "A tibble: 2 × 1\n",
       "\n",
       "| table_name &lt;chr&gt; |\n",
       "|---|\n",
       "| tbl_ChildrenLookedAfter              |\n",
       "| tbl_ChildrenLookedAfter_2006_to_2019 |\n",
       "\n"
      ],
      "text/plain": [
       "  table_name                          \n",
       "1 tbl_ChildrenLookedAfter             \n",
       "2 tbl_ChildrenLookedAfter_2006_to_2019"
      ]
     },
     "metadata": {},
     "output_type": "display_data"
    },
    {
     "name": "stdout",
     "output_type": "stream",
     "text": [
      "[1] \"Done builder tables 2023-06-23 15:59:58\"\n"
     ]
    }
   ],
   "source": [
    "#New section to build user table loop \n",
    "\n",
    "#Your loop references this table\n",
    "#You run this to load the list of tables into the dataframe \"table\"\n",
    "\n",
    "sql3 <-paste('select distinct table_name  from ' ,sourcedb,'.INFORMATION_SCHEMA.COLUMNS where table_name like \\'tbl_ChildrenLookedAfter%\\' and column_name = \\'person_id\\' order by table_name ;', sep = \"\")\n",
    "tb3 <- bq_project_query(project_id, sql3)\n",
    "\n",
    "table <- bq_table_download(tb3)\n",
    "table \n",
    "\n",
    "\n",
    "eric <- paste(\"Done builder tables \"  ,Sys.time() + hours(1) ,sep = \"\")\n",
    "print(eric)\n"
   ]
  },
  {
   "cell_type": "code",
   "execution_count": 15,
   "id": "63a2ff19-3f57-4477-ba7c-c4c471c795db",
   "metadata": {},
   "outputs": [
    {
     "name": "stdout",
     "output_type": "stream",
     "text": [
      "[1] \"Done tmp persons 2023-06-23 16:00:20\"\n"
     ]
    }
   ],
   "source": [
    "#This then loops through the data frame until the end\n",
    "# uses the two variables table[[i, 1]] and table[[i, 2]]\n",
    "# in the query\n",
    "\n",
    "sql4 <-paste('drop table if exists ',targetdb,'.tmp_persons;', sep = \"\")\n",
    "tb4 <-bq_project_query(project_id, sql4)\n",
    "\n",
    "\n",
    "sql5 <-paste('create table ',targetdb,'.tmp_persons \n",
    "(person_id int64);', sep = \"\")\n",
    "tb5 <-bq_project_query(project_id, sql5)\n",
    "#print(tb5)\n",
    "\n",
    "\n",
    "#Loops through all the data tables to build a list of unique person_ids from all of them \n",
    "\n",
    "for(i in 1:nrow(table)) \n",
    "{\n",
    "# for-loop over columns\n",
    "    #print(paste0(\"Table: \", table[[i, 1]]))\n",
    "    temp_sql_query  <-paste('insert into ',targetdb,'.tmp_persons select distinct cast(person_id as int64)  from ' ,sourcedb,'.',table[[i, 1]] ,';' , sep = \"\") \n",
    "    temp_queried_table <- bq_project_query(project_id, temp_sql_query)\n",
    "    temp_table <- bq_table_download(temp_queried_table)\n",
    "    #print(paste0(\"done \", temp_table[[1, 1]]))\n",
    "    #cat(\"\\n\")\n",
    "}\n",
    "\n",
    "\n",
    "eric <- paste(\"Done tmp persons \"  ,Sys.time() + hours(1) ,sep = \"\")\n",
    "print(eric)"
   ]
  },
  {
   "cell_type": "code",
   "execution_count": 16,
   "id": "4e46b7bc-089a-4537-922e-e56e5924502c",
   "metadata": {},
   "outputs": [
    {
     "name": "stdout",
     "output_type": "stream",
     "text": [
      "[1] \"Done persons 2023-06-23 16:00:24\"\n"
     ]
    }
   ],
   "source": [
    "#Now build the persons table \n",
    "\n",
    "sql11 <-paste('drop table if exists ' ,targetdb,'.person', sep = \"\")\n",
    "tb11 <- bq_project_query(project_id, sql11)\n",
    "\n",
    "\n",
    "sql12 <-paste('create table ' ,targetdb,'.person \n",
    "as \n",
    "SELECT distinct a.person_id\n",
    ", gender_concept_id\n",
    ", year_of_birth\n",
    ", month_of_birth\n",
    ", day_of_birth\n",
    ", birth_datetime\n",
    ", death_datetime\n",
    ", race_concept_id\n",
    ", ethnicity_concept_id\n",
    ", location_id\n",
    ", provider_id\n",
    ", care_site_id\n",
    ", person_source_value\n",
    ", gender_source_value\n",
    ", gender_source_concept_id\n",
    ", race_source_value\n",
    ", race_source_concept_id\n",
    ", ethnicity_source_value\n",
    ", ethnicity_source_concept_id \n",
    "FROM yhcr-prd-phm-bia-core.CB_FDM_MASTER.person a\n",
    ",',targetdb,'.tmp_persons b where a.person_id =  b.person_id' , sep = \"\")\n",
    "\n",
    "tb12 <- bq_project_query(project_id, sql12)\n",
    "#print(sql12)\n",
    "\n",
    "eric <- paste(\"Done persons \"  ,Sys.time() + hours(1) ,sep = \"\")\n",
    "print(eric)"
   ]
  },
  {
   "cell_type": "code",
   "execution_count": null,
   "id": "713db6fa-d83d-4b57-b404-9935bb63f453",
   "metadata": {},
   "outputs": [],
   "source": [
    "#Ensure you have updated the lookup table ie\n",
    "#sql14 <- \"update `yhcr-prd-phm-bia-core.CY_LOOKUPS.tbl_Dataset_ExtractDateRef` set extract_date = '2023-02-07' where DatasetName = 'CB_STAGING_DATABASE_SUS_Airedale_FDM_Format'\"  \n",
    "\n",
    "#tb14 <- bq_project_query(project_id, sql14)"
   ]
  },
  {
   "cell_type": "code",
   "execution_count": 17,
   "id": "84db12a9-0f81-43ec-b3f0-53dfaf11c926",
   "metadata": {},
   "outputs": [
    {
     "name": "stdout",
     "output_type": "stream",
     "text": [
      "[1] \"temp event dates built 2023-06-23 16:00:29\"\n"
     ]
    }
   ],
   "source": [
    "\n",
    "\n",
    "#This query makes the observation period based on the persons table BUT adds in rules for this data extract.\n",
    "#This query makes the observation period based on the persons table BUT adds in rules for this data extract.\n",
    "\n",
    "#Qmak_PrimaryCareObservationPeriod_Part1\n",
    "\n",
    "sql15 <-paste('drop table if exists ' ,targetdb,'.tmp_Eventdates' , sep = \"\")\n",
    "sql16 <-paste('drop table if exists ' ,targetdb,'.tmp_EventdatesValid' , sep = \"\")\n",
    "sql17 <-paste('truncate table ' ,targetdb,'.observation_period' , sep = \"\")\n",
    "\n",
    "tb15 <-bq_project_query(project_id, sql15)\n",
    "tb16 <-bq_project_query(project_id, sql16)\n",
    "tb17 <-bq_project_query(project_id, sql17)\n",
    "\n",
    "#This just builds a temp table for later use \n",
    "sql18 <-paste('create table ',targetdb,'.tmp_Eventdates \n",
    "(person_id int64\n",
    ", EventDate Datetime) ' , sep = \"\")\n",
    "tb18 <-bq_project_query(project_id, sql18)\n",
    "\n",
    "eric <- paste(\"temp event dates built \"  ,Sys.time() + hours(1) ,sep = \"\")\n",
    "print(eric)"
   ]
  },
  {
   "cell_type": "code",
   "execution_count": 18,
   "id": "2b4121cb-958e-45eb-a699-f849ad3aedbb",
   "metadata": {},
   "outputs": [
    {
     "name": "stdout",
     "output_type": "stream",
     "text": [
      "[1] \"Start dates built 2023-06-23 16:00:37\"\n"
     ]
    }
   ],
   "source": [
    "#Loop through the user tables\n",
    "#selecting person_id and date from and date to for each of them.\n",
    "\n",
    "#start_date_first\n",
    "for(i in 1:nrow(table)) \n",
    "{\n",
    "# for-loop over columns\n",
    "    #print(paste0(\"Table: \", table[[i, 1]]))\n",
    "    temp_sql_query  <-paste('insert into ',targetdb,'.tmp_Eventdates select distinct cast(person_id as int64) as person_id, ',table[[i, 1]] ,'_start_date from ' ,sourcedb,'.',table[[i, 1]] ,' where person_id is not null;' , sep = \"\") \n",
    "    temp_queried_table <- bq_project_query(project_id, temp_sql_query)\n",
    "    #temp_table <- bq_table_download(temp_queried_table)\n",
    "    #print(temp_sql_query)\n",
    "    #print(paste0(\"done \", temp_table[[i, 1]]))\n",
    "    #cat(\"\\n\")\n",
    "}\n",
    "\n",
    "eric <- paste(\"Start dates built \"  ,Sys.time() + hours(1) ,sep = \"\")\n",
    "print(eric)"
   ]
  },
  {
   "cell_type": "code",
   "execution_count": 19,
   "id": "d8288873-9ebd-42dc-9c04-9435ffbfa7ef",
   "metadata": {},
   "outputs": [
    {
     "name": "stdout",
     "output_type": "stream",
     "text": [
      "[1] \"End dates built 2023-06-23 16:00:42\"\n"
     ]
    }
   ],
   "source": [
    "#Now do end date\n",
    "for(i in 1:nrow(table)) \n",
    "{\n",
    "# for-loop over columns\n",
    "    #print(paste0(\"Table: \", table[[i, 1]]))\n",
    "    temp_sql_query  <-paste('insert into ',targetdb,'.tmp_Eventdates select distinct cast(person_id as int64) as person_id, ',table[[i, 1]] ,'_end_date from ' ,sourcedb,'.',table[[i, 1]] ,' where person_id is not null ;' , sep = \"\") \n",
    "    temp_queried_table <- bq_project_query(project_id, temp_sql_query)\n",
    "    #temp_table <- bq_table_download(temp_queried_table)\n",
    "    #print(temp_sql_query)\n",
    "    #print(paste0(\"done \", temp_table[[i, 1]]))\n",
    "    #cat(\"\\n\")\n",
    "}\n",
    "\n",
    "eric <- paste(\"End dates built \"  ,Sys.time() + hours(1) ,sep = \"\")\n",
    "print(eric)"
   ]
  },
  {
   "cell_type": "code",
   "execution_count": 20,
   "id": "5d590ab2-de85-4b45-b5e5-562ebdf70a02",
   "metadata": {},
   "outputs": [
    {
     "name": "stdout",
     "output_type": "stream",
     "text": [
      "[1] \"Temp valid dates built\"\n",
      "[1] \"observation period built\"\n",
      "[1] \"invalid people removed\"\n",
      "[1] \"obs period built invalid people removed 2023-06-23 16:00:53\"\n"
     ]
    }
   ],
   "source": [
    "\n",
    "sql24 <-paste('create table ',targetdb,'.tmp_EventdatesValid\n",
    "as\n",
    "select distinct a.person_id\n",
    ",cast(a.EventDate as date) as EventDate\n",
    "from ',targetdb,'.tmp_Eventdates a ,' \n",
    ",targetdb,'.person e \n",
    "where e.person_id = a.person_id \n",
    "and e.death_datetime is not null \n",
    "and a.EventDate >= e.birth_datetime\n",
    "and a.EventDate <= date_add(e.death_datetime, INTERVAL 42 day) \n",
    "and a.EventDate <= (Select extract_date from yhcr-prd-phm-bia-core.CB_LOOKUPS.tbl_Dataset_ExtractDateRef where DatasetName = \\'CB_STAGING_DATABASE_DFE_FDM_Format\\')', sep = \"\")\n",
    "\n",
    "\n",
    "#-- BUT this only includes persons with a death datetime\n",
    "#-- So section below includes those with a null deathdatetime\n",
    "\n",
    "sql25 <-paste('insert into ',targetdb,'.tmp_EventdatesValid\n",
    "select distinct a.person_id\n",
    ", cast(a.EventDate as date) as EventDate\n",
    "from ',targetdb,'.tmp_Eventdates a\n",
    ",' ,targetdb,'.person e \n",
    "where e.person_id = a.person_id \n",
    "and e.death_datetime is null \n",
    "and a.EventDate >= e.birth_datetime\n",
    "and a.EventDate <= (Select extract_date from yhcr-prd-phm-bia-core.CB_LOOKUPS.tbl_Dataset_ExtractDateRef where DatasetName = \\'CB_STAGING_DATABASE_DFE_FDM_Format\\')', sep = \"\")\n",
    "\n",
    "print(\"Temp valid dates built\")\n",
    "\n",
    "#third part pushes these into the observation_period table\n",
    "\n",
    "sql26 <-paste('insert into ' ,targetdb,'.observation_period\n",
    "select distinct\n",
    "ROW_NUMBER() over (Order by person_id) as observation_period_id \n",
    ", person_id\n",
    ", min(EventDate) as observation_period_start_date\n",
    ", max(EventDate) as observation_period_end_date\n",
    ",null as period_type_concept_id\n",
    "from ',targetdb,'.tmp_EventdatesValid\n",
    "group by person_id', sep = \"\")\n",
    "\n",
    "#Finally Run these sql's\n",
    "\n",
    "\n",
    "tb24 <-bq_project_query(project_id, sql24)\n",
    "tb25 <-bq_project_query(project_id, sql25)\n",
    "tb26 <-bq_project_query(project_id, sql26)\n",
    "\n",
    "print (\"observation period built\")\n",
    "\n",
    "# Now remove from person table where there is no observation period\n",
    "# This happens where there is patient data but no actual records \n",
    "# or there is patient data but no dob \n",
    "\n",
    "sql26a <-paste(' delete from ' ,targetdb,'.person where person_id\n",
    "not in (select person_id from ', targetdb, ' . observation_period)', sep = \"\")\n",
    "\n",
    "tb26a <-bq_project_query(project_id, sql26a) \n",
    "\n",
    "print (\"invalid people removed\")\n",
    "\n",
    "\n",
    "eric <- paste(\"obs period built invalid people removed \"  ,Sys.time() + hours(1) ,sep = \"\")\n",
    "print(eric)\n"
   ]
  },
  {
   "cell_type": "code",
   "execution_count": 21,
   "id": "f6873ad4-1f2e-422a-bb58-b00a3e06c17a",
   "metadata": {},
   "outputs": [
    {
     "name": "stdout",
     "output_type": "stream",
     "text": [
      "[1] \"User tables removed 2023-06-23 16:00:58\"\n"
     ]
    }
   ],
   "source": [
    "# As the Warehouse tables are all fdm ready we can just copy them into the FDM space\n",
    "# once we've dropped them - if they exist ! \n",
    "# So drop loop next \n",
    "\n",
    "#start drop them first\n",
    "for(i in 1:nrow(table)) \n",
    "{\n",
    "# for-loop over columns\n",
    "    #print(paste0(\"Table: \", table[[i, 1]]))\n",
    "    temp_sql_query  <-paste('drop table if exists ',targetdb,'.', table[[i, 1]] ,';' , sep = \"\") \n",
    "    temp_queried_table <- bq_project_query(project_id, temp_sql_query)\n",
    "    #temp_table <- bq_table_download(temp_queried_table)\n",
    "    #print(temp_sql_query)\n",
    "    #print(paste0(\"done \", temp_table[[i, 1]]))\n",
    "    #cat(\"\\n\")\n",
    "}\n",
    "\n",
    "eric <- paste(\"User tables removed \"  ,Sys.time() + hours(1) ,sep = \"\")\n",
    "print(eric)"
   ]
  },
  {
   "cell_type": "code",
   "execution_count": 22,
   "id": "d9f8ffe8-7b6c-4627-a8e0-70010a7b1d21",
   "metadata": {},
   "outputs": [
    {
     "name": "stdout",
     "output_type": "stream",
     "text": [
      "[1] \"User tables built 2023-06-23 16:01:06\"\n"
     ]
    }
   ],
   "source": [
    "#Now build them \n",
    "for(i in 1:nrow(table)) \n",
    "{\n",
    "# for-loop over columns\n",
    "    #print(paste0(\"Table: \", table[[i, 1]]))\n",
    "    temp_sql_query  <-paste('create table ',targetdb,'.',table[[i, 1]] ,' as select src.* from ' ,sourcedb,'.',table[[i, 1]],' src \n",
    "    , ',targetdb,'.observation_period obs where cast(src.person_id as int64)  = obs.person_id \n",
    "    and src.',table[[i, 1]],'_end_date <= obs.observation_period_end_date  \n",
    "    and src.',table[[i, 1]],'_start_date >= obs.observation_period_start_date', sep = \"\")\n",
    "    #print(temp_sql_query)\n",
    "    temp_queried_table <- bq_project_query(project_id, temp_sql_query)\n",
    "    #temp_table <- bq_table_download(temp_queried_table)\n",
    "    #print(paste0(\"done \", temp_table[[i, 1]]))\n",
    "    #cat(\"\\n\")\n",
    "}\n",
    "\n",
    "\n",
    "eric <- paste(\"User tables built \"  ,Sys.time() + hours(1) ,sep = \"\")\n",
    "print(eric)\n",
    "\n",
    "#But this only works for those tables with a tbl_prefix containing person_id \n",
    "# so we need to manually mop up the ones that don't."
   ]
  },
  {
   "cell_type": "code",
   "execution_count": 23,
   "id": "67eebdbe-87bf-4967-b7e5-8c844d6cf67d",
   "metadata": {},
   "outputs": [
    {
     "data": {
      "text/html": [
       "<table class=\"dataframe\">\n",
       "<caption>A tibble: 1 × 1</caption>\n",
       "<thead>\n",
       "\t<tr><th scope=col>table_name</th></tr>\n",
       "\t<tr><th scope=col>&lt;chr&gt;</th></tr>\n",
       "</thead>\n",
       "<tbody>\n",
       "\t<tr><td>tbl_ChildrenLookedAfter</td></tr>\n",
       "</tbody>\n",
       "</table>\n"
      ],
      "text/latex": [
       "A tibble: 1 × 1\n",
       "\\begin{tabular}{l}\n",
       " table\\_name\\\\\n",
       " <chr>\\\\\n",
       "\\hline\n",
       "\t tbl\\_ChildrenLookedAfter\\\\\n",
       "\\end{tabular}\n"
      ],
      "text/markdown": [
       "\n",
       "A tibble: 1 × 1\n",
       "\n",
       "| table_name &lt;chr&gt; |\n",
       "|---|\n",
       "| tbl_ChildrenLookedAfter |\n",
       "\n"
      ],
      "text/plain": [
       "  table_name             \n",
       "1 tbl_ChildrenLookedAfter"
      ]
     },
     "metadata": {},
     "output_type": "display_data"
    },
    {
     "name": "stdout",
     "output_type": "stream",
     "text": [
      "[1] \"alter  table yhcr-prd-phm-bia-core.CB_FDM_LookedAfterChildren_V1.tbl_ChildrenLookedAfter drop column EDRN\"\n",
      "[1] \"Done - digest in user tables dropped 2023-06-23 16:01:10\"\n"
     ]
    }
   ],
   "source": [
    "# new section to drop columns where digest exists \n",
    "\n",
    "sql3 <-paste('select distinct table_name  from ' ,targetdb,'.INFORMATION_SCHEMA.COLUMNS where table_name like \\'tbl%\\' \n",
    "and column_name = \\'EDRN\\' order by table_name ;', sep = \"\")\n",
    "tb3 <- bq_project_query(project_id, sql3)\n",
    "\n",
    "table2 <- bq_table_download(tb3)\n",
    "table2 \n",
    "\n",
    "\n",
    "for(i in 1:nrow(table2)) \n",
    "{\n",
    "# for-loop over columns\n",
    "    #print(paste0(\"Table: \", table2[[i, 1]]))\n",
    "    temp_sql_query  <-paste('alter  table ',targetdb,'.',table2[[i, 1]] ,' drop column EDRN', sep = \"\")\n",
    "    print(temp_sql_query)\n",
    "    temp_queried_table <- bq_project_query(project_id, temp_sql_query)\n",
    "    #temp_table <- bq_table_download(temp_queried_table)\n",
    "    #print(paste0(\"done \", temp_table[[i, 1]]))\n",
    "    #cat(\"\\n\")\n",
    "}\n",
    "\n",
    "\n",
    "fred <-paste('Done - digest in user tables dropped ' ,Sys.time() + hours(1), sep = \"\")\n",
    "print (fred)"
   ]
  },
  {
   "cell_type": "code",
   "execution_count": 25,
   "id": "56e9af54-2d1e-461a-b384-51bcab0f24d6",
   "metadata": {},
   "outputs": [
    {
     "name": "stdout",
     "output_type": "stream",
     "text": [
      "[1] \"temp tables dropped\"\n",
      "[1] \"FDM Build ofyhcr-prd-phm-bia-core.CB_FDM_LookedAfterChildren_V1finished2023-06-23 16:01:51\"\n"
     ]
    }
   ],
   "source": [
    "sql90 <-paste('drop table if exists ',targetdb,'.tmp_persons;', sep = \"\")\n",
    "tb90 <-bq_project_query(project_id, sql90)\n",
    "\n",
    "sql91 <-paste('drop table if exists ',targetdb,'.tmp_Eventdates;', sep = \"\")\n",
    "tb91 <-bq_project_query(project_id, sql91)\n",
    "\n",
    "sql92 <-paste('drop table if exists ',targetdb,'.tmp_EventdatesValid;', sep = \"\")\n",
    "tb92 <-bq_project_query(project_id, sql92)\n",
    "\n",
    "sql92 <-paste('drop table if exists ',targetdb,'.data_dictionary;', sep = \"\")\n",
    "tb92 <-bq_project_query(project_id, sql92)\n",
    "\n",
    "\n",
    "print(\"temp tables dropped\")\n",
    "\n",
    "eric <- paste('FDM Build of',targetdb,'finished'  ,Sys.time() + hours(1) ,sep = \"\")\n",
    "print(eric)\n",
    "\n"
   ]
  }
 ],
 "metadata": {
  "environment": {
   "kernel": "ir",
   "name": "r-cpu.4-2.m109",
   "type": "gcloud",
   "uri": "gcr.io/deeplearning-platform-release/r-cpu.4-2:m109"
  },
  "kernelspec": {
   "display_name": "R",
   "language": "R",
   "name": "ir"
  },
  "language_info": {
   "codemirror_mode": "r",
   "file_extension": ".r",
   "mimetype": "text/x-r-source",
   "name": "R",
   "pygments_lexer": "r",
   "version": "4.2.3"
  }
 },
 "nbformat": 4,
 "nbformat_minor": 5
}
